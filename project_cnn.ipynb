{
 "cells": [
  {
   "cell_type": "markdown",
   "metadata": {},
   "source": [
    "# Step 1 - Data Gathering"
   ]
  },
  {
   "cell_type": "code",
   "execution_count": 1,
   "metadata": {},
   "outputs": [],
   "source": [
    "import numpy as np\n",
    "import data_processor\n",
    "from sklearn.neural_network import MLPClassifier\n",
    "import matplotlib.pyplot as plt\n",
    "from sklearn.preprocessing import StandardScaler     # scaling transform\n",
    "from sklearn.model_selection import train_test_split # validation tools\n",
    "from collections import defaultdict\n",
    "\n",
    "%matplotlib inline\n",
    "\n",
    "seed = 1234"
   ]
  },
  {
   "cell_type": "markdown",
   "metadata": {},
   "source": [
    "### Getting the Data"
   ]
  },
  {
   "cell_type": "code",
   "execution_count": 3,
   "metadata": {},
   "outputs": [
    {
     "name": "stdout",
     "output_type": "stream",
     "text": [
      "--- Done reading legend.csv ---\n",
      "--- Done turning images into vectors ---\n"
     ]
    }
   ],
   "source": [
    "get_data_from_file = False  # faster when this is False\n",
    "DATA_IMG_SIZE = (125, 125)\n",
    "\n",
    "# get data from file\n",
    "if (get_data_from_file):\n",
    "    DATA_FILE = \"data_images_100_100.txt\"\n",
    "    data = np.genfromtxt(DATA_FILE)\n",
    "    X = data[:, :-1]\n",
    "    y = data[:, -1]\n",
    "\n",
    "# generate data here\n",
    "if not get_data_from_file:\n",
    "    X, y = data_processor.convert_images(DATA_IMG_SIZE, True)\n",
    "    X = np.array(X, dtype=np.float16)\n",
    "    y = np.char.lower(np.array(y))\n"
   ]
  },
  {
   "cell_type": "markdown",
   "metadata": {},
   "source": [
    "### Preprocessing the Data"
   ]
  },
  {
   "cell_type": "code",
   "execution_count": 4,
   "metadata": {},
   "outputs": [
    {
     "name": "stdout",
     "output_type": "stream",
     "text": [
      "before oversampling:\n",
      "defaultdict(<class 'int'>, {'neutral': 6717, 'happiness': 5309, 'surprise': 355, 'sadness': 124, 'anger': 227, 'contempt': 9, 'disgust': 12, 'fear': 12})\n",
      "\n",
      "after:\n",
      "defaultdict(<class 'int'>, {'neutral': 6717, 'happiness': 5309, 'surprise': 6390, 'sadness': 6696, 'anger': 6583, 'contempt': 6714, 'disgust': 6708, 'fear': 6708})\n"
     ]
    }
   ],
   "source": [
    "counts = defaultdict(int)\n",
    "for i in y:\n",
    "    counts[i] += 1\n",
    "print('before oversampling:')\n",
    "print(counts)\n",
    "\n",
    "# compute indices of classes\n",
    "contempt_i = np.where(y == 'contempt')[0]\n",
    "fear_i = np.where(y == 'fear')[0]\n",
    "disgust_i = np.where(y == 'disgust')[0]\n",
    "anger_i = np.where(y == 'anger')[0]\n",
    "sadness_i = np.where(y == 'sadness')[0]\n",
    "surprise_i = np.where(y == 'surprise')[0]\n",
    "\n",
    "# calculate how many times to duplicate data\n",
    "contempt_times = int(counts['neutral'] / counts['contempt']) - 1\n",
    "fear_times = int(counts['neutral'] / counts['fear']) - 1\n",
    "disgust_times = int(counts['neutral'] / counts['disgust']) - 1\n",
    "anger_times = int(counts['neutral'] / counts['anger']) - 1\n",
    "sadness_times = int(counts['neutral'] / counts['sadness']) - 1\n",
    "surprise_times = int(counts['neutral'] / counts['surprise']) - 1\n",
    "\n",
    "contempt_X = np.repeat(X[contempt_i], contempt_times, axis=0)\n",
    "fear_X = np.repeat(X[fear_i], fear_times, axis=0)\n",
    "disgust_X = np.repeat(X[disgust_i], disgust_times, axis=0)\n",
    "anger_X = np.repeat(X[anger_i], anger_times, axis=0)\n",
    "sadness_X = np.repeat(X[sadness_i], sadness_times, axis=0)\n",
    "surprise_X = np.repeat(X[surprise_i], surprise_times, axis=0)\n",
    "\n",
    "X_balanced = np.concatenate((X, contempt_X, fear_X, disgust_X, anger_X, sadness_X, surprise_X), axis=0)\n",
    "y_balanced = np.concatenate((y,\n",
    "                                np.repeat(['contempt'], contempt_times * counts['contempt']),\n",
    "                                np.repeat(['fear'], fear_times * counts['fear']),\n",
    "                                np.repeat(['disgust'], disgust_times * counts['disgust']),\n",
    "                                np.repeat(['anger'], anger_times * counts['anger']),\n",
    "                                np.repeat(['sadness'], sadness_times * counts['sadness']),\n",
    "                                np.repeat(['surprise'], surprise_times * counts['surprise'])), axis=0)\n",
    "\n",
    "counts_after = defaultdict(int)\n",
    "for i in y_balanced:\n",
    "    counts_after[i] += 1\n",
    "print('\\nafter:')\n",
    "print(counts_after)\n"
   ]
  },
  {
   "cell_type": "code",
   "execution_count": 5,
   "metadata": {},
   "outputs": [],
   "source": [
    "# shuffle oversampled data\n",
    "np.random.seed(seed)\n",
    "shuffled_indices = np.arange(y_balanced.shape[0])\n",
    "np.random.shuffle(shuffled_indices)\n",
    "\n",
    "X_balanced = X_balanced[shuffled_indices]\n",
    "y_balanced = y_balanced[shuffled_indices]\n"
   ]
  },
  {
   "cell_type": "code",
   "execution_count": null,
   "metadata": {},
   "outputs": [],
   "source": [
    "X_balanced = X_balanced[:30000]\n",
    "y_balanced = y_balanced[:30000]\n",
    "print(y_balanced.shape)"
   ]
  },
  {
   "cell_type": "code",
   "execution_count": 6,
   "metadata": {},
   "outputs": [],
   "source": [
    "from sklearn.preprocessing import LabelEncoder\n",
    "import pandas as pd\n",
    "\n",
    "# encode y (str -> int)\n",
    "label_encoder = LabelEncoder()\n",
    "y_encoded = label_encoder.fit_transform(y_balanced)\n",
    "label_mapping = pd.DataFrame({'class_label': label_encoder.classes_, 'numeric_label': np.arange(len(label_encoder.classes_))})\n",
    "label_mapping.to_csv('label_mapping.csv', index=False)\n",
    "num_classes = len(label_encoder.classes_)\n",
    "\n",
    "# channels = 1 --> grayscale\n",
    "original_height, original_width, channels = *DATA_IMG_SIZE, 1\n",
    "\n",
    "# scale X\n",
    "scaler = StandardScaler()\n",
    "X_scaled = scaler.fit_transform(X_balanced)\n",
    "# reshape X\n",
    "X_reshaped = X_scaled.reshape(-1, original_height, original_width, channels)\n",
    "\n",
    "# split the training and testing data\n",
    "X_tr, X_te, y_tr, y_te = train_test_split(X_reshaped, y_encoded, test_size=0.1, random_state=seed, shuffle=True)\n"
   ]
  },
  {
   "cell_type": "markdown",
   "metadata": {},
   "source": [
    "# Step 2 - Building the Convolutional Neural Network"
   ]
  },
  {
   "cell_type": "markdown",
   "metadata": {},
   "source": [
    "### Create and Test an Initial CNN"
   ]
  },
  {
   "cell_type": "code",
   "execution_count": 16,
   "metadata": {},
   "outputs": [
    {
     "name": "stdout",
     "output_type": "stream",
     "text": [
      "Epoch 1/3\n",
      "1250/1250 [==============================] - 241s 191ms/step - loss: 0.2724 - accuracy: 0.9005 - val_loss: 0.0933 - val_accuracy: 0.9606\n",
      "Epoch 2/3\n",
      "1250/1250 [==============================] - 242s 193ms/step - loss: 0.0727 - accuracy: 0.9726 - val_loss: 0.0939 - val_accuracy: 0.9616\n",
      "Epoch 3/3\n",
      "1250/1250 [==============================] - 241s 193ms/step - loss: 0.0453 - accuracy: 0.9839 - val_loss: 0.0885 - val_accuracy: 0.9643\n",
      "162/162 [==============================] - 6s 37ms/step - loss: 0.1077 - accuracy: 0.9612\n",
      "Model Result\n",
      "-----\n",
      "{'loss': 0.10774499922990799, 'accuracy': 0.9612193703651428}\n"
     ]
    }
   ],
   "source": [
    "import tensorflow as tf\n",
    "from tensorflow.keras import layers, models\n",
    "import pandas as pd\n",
    "\n",
    "save_path = 'saved_networks/tfmodel_dropout.keras'\n",
    "\n",
    "# first 10000 of train for training, rest of train for validation\n",
    "X_tr_train = X_tr[:40000, :]    # shape = (10000, 10000)\n",
    "y_tr_train = y_tr[:40000]       # shape = (2321, 10000)\n",
    "X_tr_val = X_tr[40000:, :]      # shape = (10000, )\n",
    "y_tr_val = y_tr[40000:]         # sahpe = (2321, )\n",
    "\n",
    "# create the CNN model\n",
    "model = models.Sequential()\n",
    "model.add(layers.Conv2D(32, (3, 3), activation='relu', input_shape=(original_height, original_width, channels)))\n",
    "model.add(layers.MaxPooling2D((2, 2)))\n",
    "model.add(layers.Conv2D(64, (3, 3), activation='relu'))\n",
    "model.add(layers.MaxPooling2D((2, 2)))\n",
    "model.add(layers.Conv2D(64, (3, 3), activation='relu'))\n",
    "model.add(layers.Flatten())\n",
    "model.add(layers.Dense(128, activation='relu'))\n",
    "model.add(layers.Dropout(0.2,seed=seed))\n",
    "# model.add(layers.Dense(64, activation='relu'))\n",
    "# model.add(layers.Dropout(0.2,seed=seed*2))\n",
    "model.add(layers.Dense(num_classes, activation='softmax'))\n",
    "\n",
    "# build the CNN model\n",
    "model.compile(optimizer='adam',\n",
    "              loss='sparse_categorical_crossentropy',\n",
    "              metrics=['accuracy'])\n",
    "\n",
    "# train the CNN model\n",
    "history = model.fit(X_tr_train, y_tr_train, epochs=3, validation_data=(X_tr_val, y_tr_val))\n",
    "\n",
    "# save the CNN model to saved_networks/tfmodel.keras\n",
    "# model.save(save_path)\n",
    "\n",
    "# evalulate the CNN model\n",
    "result = model.evaluate(X_te, y_te)\n",
    "result_dict = dict(zip(model.metrics_names, result))\n",
    "print(f\"Model Result\\n-----\\n{result_dict}\")"
   ]
  },
  {
   "cell_type": "markdown",
   "metadata": {},
   "source": [
    "[64] : {'loss': 0.14806975424289703, 'accuracy': 0.9569747447967529}\n",
    "<br>\n",
    "[64, 64] : {'loss': 0.11925368756055832, 'accuracy': 0.956588864326477}\n",
    "<br>\n",
    "[64, 64] + Dropout : {'loss': 0.09940318763256073, 'accuracy': 0.9631487727165222}\n",
    "<br>\n",
    "[128] + Dropout : {'loss': 0.10774499922990799, 'accuracy': 0.9612193703651428}"
   ]
  }
 ],
 "metadata": {
  "kernelspec": {
   "display_name": "cs178",
   "language": "python",
   "name": "python3"
  },
  "language_info": {
   "codemirror_mode": {
    "name": "ipython",
    "version": 3
   },
   "file_extension": ".py",
   "mimetype": "text/x-python",
   "name": "python",
   "nbconvert_exporter": "python",
   "pygments_lexer": "ipython3",
   "version": "3.11.5"
  }
 },
 "nbformat": 4,
 "nbformat_minor": 2
}
