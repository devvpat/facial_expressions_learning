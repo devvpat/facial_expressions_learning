{
 "cells": [
  {
   "cell_type": "markdown",
   "metadata": {},
   "source": [
    "# Step 1 - Data Gathering"
   ]
  },
  {
   "cell_type": "code",
   "execution_count": 45,
   "metadata": {},
   "outputs": [],
   "source": [
    "import numpy as np\n",
    "import data_processor\n",
    "from sklearn.neural_network import MLPClassifier\n",
    "import matplotlib.pyplot as plt\n",
    "from sklearn.preprocessing import StandardScaler     # scaling transform\n",
    "from sklearn.model_selection import train_test_split # validation tools\n",
    "from collections import defaultdict\n",
    "\n",
    "%matplotlib inline\n",
    "\n",
    "seed = 1234"
   ]
  },
  {
   "cell_type": "markdown",
   "metadata": {},
   "source": [
    "### Getting the Data"
   ]
  },
  {
   "cell_type": "code",
   "execution_count": 46,
   "metadata": {},
   "outputs": [
    {
     "name": "stdout",
     "output_type": "stream",
     "text": [
      "--- Done reading legend.csv ---\n",
      "--- Done turning images into vectors ---\n"
     ]
    }
   ],
   "source": [
    "get_data_from_file = False  # faster when this is False\n",
    "DATA_IMG_SIZE = (100, 100)\n",
    "\n",
    "# get data from file\n",
    "if (get_data_from_file):\n",
    "    DATA_FILE = \"data_images_100_100.txt\"\n",
    "    data = np.genfromtxt(DATA_FILE)\n",
    "    X = data[:, :-1]\n",
    "    y = data[:, -1]\n",
    "\n",
    "# generate data here\n",
    "if not get_data_from_file:\n",
    "    X, y = data_processor.convert_images(DATA_IMG_SIZE, True)\n",
    "    X = np.array(X)\n",
    "    y = np.char.lower(np.array(y))\n"
   ]
  },
  {
   "cell_type": "markdown",
   "metadata": {},
   "source": [
    "### Preprocessing the Data"
   ]
  },
  {
   "cell_type": "code",
   "execution_count": 47,
   "metadata": {},
   "outputs": [],
   "source": [
    "from sklearn.preprocessing import LabelEncoder\n",
    "import pandas as pd\n",
    "\n",
    "# encode y (str -> int)\n",
    "label_encoder = LabelEncoder()\n",
    "y_encoded = label_encoder.fit_transform(y)\n",
    "label_mapping = pd.DataFrame({'class_label': label_encoder.classes_, 'numeric_label': np.arange(len(label_encoder.classes_))})\n",
    "label_mapping.to_csv('label_mapping.csv', index=False)\n",
    "num_classes = len(label_encoder.classes_)\n",
    "\n",
    "# channels = 1 --> grayscale\n",
    "original_height, original_width, channels = *DATA_IMG_SIZE, 1\n",
    "\n",
    "# scale X\n",
    "scaler = StandardScaler()\n",
    "X_scaled = scaler.fit_transform(X)\n",
    "# reshape X\n",
    "X_reshaped = X_scaled.reshape(-1, original_height, original_width, channels)\n",
    "\n",
    "# split the training and testing data\n",
    "X_tr, X_te, y_tr, y_te = train_test_split(X_reshaped, y_encoded, test_size=0.1, random_state=seed, shuffle=True)"
   ]
  },
  {
   "cell_type": "markdown",
   "metadata": {},
   "source": [
    "# Step 2 - Building the Convolutional Neural Network"
   ]
  },
  {
   "cell_type": "markdown",
   "metadata": {},
   "source": [
    "### Create and Test an Initial CNN"
   ]
  },
  {
   "cell_type": "code",
   "execution_count": 50,
   "metadata": {},
   "outputs": [
    {
     "name": "stdout",
     "output_type": "stream",
     "text": [
      "Epoch 1/3\n",
      "313/313 [==============================] - 33s 102ms/step - loss: 0.7491 - accuracy: 0.7442 - val_loss: 0.5972 - val_accuracy: 0.7992\n",
      "Epoch 2/3\n",
      "313/313 [==============================] - 29s 94ms/step - loss: 0.5165 - accuracy: 0.8235 - val_loss: 0.5482 - val_accuracy: 0.8104\n",
      "Epoch 3/3\n",
      "313/313 [==============================] - 30s 96ms/step - loss: 0.4081 - accuracy: 0.8560 - val_loss: 0.4880 - val_accuracy: 0.8315\n",
      "43/43 [==============================] - 1s 22ms/step - loss: 0.4862 - accuracy: 0.8291\n",
      "Model Result\n",
      "-----\n",
      "{'loss': 0.48619744181632996, 'accuracy': 0.8290722966194153}\n"
     ]
    }
   ],
   "source": [
    "import tensorflow as tf\n",
    "from tensorflow.keras import layers, models\n",
    "import pandas as pd\n",
    "\n",
    "# first 10000 of train for training, rest of train for validation\n",
    "X_tr_train = X_tr[:10000, :]    # shape = (10000, 10000)\n",
    "y_tr_train = y_tr[:10000]       # shape = (2321, 10000)\n",
    "X_tr_val = X_tr[10000:, :]      # shape = (10000, )\n",
    "y_tr_val = y_tr[10000:]         # sahpe = (2321, )\n",
    "\n",
    "# create the CNN model\n",
    "model = models.Sequential()\n",
    "model.add(layers.Conv2D(32, (3, 3), activation='relu', input_shape=(original_height, original_width, channels)))\n",
    "model.add(layers.MaxPooling2D((2, 2)))\n",
    "model.add(layers.Conv2D(64, (3, 3), activation='relu'))\n",
    "model.add(layers.MaxPooling2D((2, 2)))\n",
    "model.add(layers.Conv2D(64, (3, 3), activation='relu'))\n",
    "model.add(layers.Flatten())\n",
    "model.add(layers.Dense(64, activation='relu'))\n",
    "model.add(layers.Dense(num_classes, activation='softmax'))\n",
    "\n",
    "# build the CNN model\n",
    "model.compile(optimizer='adam',\n",
    "              loss='sparse_categorical_crossentropy',\n",
    "              metrics=['accuracy'])\n",
    "\n",
    "# train the CNN model\n",
    "model.fit(X_tr_train, y_tr_train, epochs=3, validation_data=(X_tr_val, y_tr_val))\n",
    "\n",
    "# evalulate the CNN model\n",
    "result = model.evaluate(X_te, y_te)\n",
    "result_dict = dict(zip(model.metrics_names, result))\n",
    "print(f\"Model Result\\n-----\\n{result_dict}\")"
   ]
  }
 ],
 "metadata": {
  "kernelspec": {
   "display_name": "cs178",
   "language": "python",
   "name": "python3"
  },
  "language_info": {
   "codemirror_mode": {
    "name": "ipython",
    "version": 3
   },
   "file_extension": ".py",
   "mimetype": "text/x-python",
   "name": "python",
   "nbconvert_exporter": "python",
   "pygments_lexer": "ipython3",
   "version": "3.11.4"
  }
 },
 "nbformat": 4,
 "nbformat_minor": 2
}
