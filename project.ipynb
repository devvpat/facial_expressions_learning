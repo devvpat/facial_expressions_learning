{
 "cells": [
  {
   "cell_type": "markdown",
   "metadata": {},
   "source": [
    "link up imgs in images/ with according id in data/legend.csv"
   ]
  },
  {
   "cell_type": "code",
   "execution_count": 1,
   "metadata": {},
   "outputs": [],
   "source": [
    "import numpy as np\n",
    "import data_processor"
   ]
  },
  {
   "cell_type": "markdown",
   "metadata": {},
   "source": [
    "# STEP 0 - GETTING THE DATA"
   ]
  },
  {
   "cell_type": "code",
   "execution_count": 2,
   "metadata": {},
   "outputs": [
    {
     "name": "stdout",
     "output_type": "stream",
     "text": [
      "--- Done reading legend.csv ---\n",
      "--- Done turning images into vectors ---\n"
     ]
    }
   ],
   "source": [
    "get_data_from_file = False  # faster when this is False\n",
    "\n",
    "# get data from file\n",
    "if (get_data_from_file):\n",
    "    DATA_FILE = \"data_images_100_100.txt\"\n",
    "    data = np.genfromtxt(DATA_FILE)\n",
    "    X = data[:, :-1]\n",
    "    y = data[:, -1]\n",
    "\n",
    "# generate data here\n",
    "if not get_data_from_file:\n",
    "    DATA_IMG_SIZE = (350, 350)\n",
    "    X, y = data_processor.convert_images(DATA_IMG_SIZE, True)\n",
    "    X = np.array(X)\n",
    "    y = np.array(y)\n"
   ]
  },
  {
   "cell_type": "code",
   "execution_count": 3,
   "metadata": {},
   "outputs": [
    {
     "name": "stdout",
     "output_type": "stream",
     "text": [
      "(13690, 122500)\n",
      "(13690,)\n"
     ]
    }
   ],
   "source": [
    "print(X.shape)\n",
    "print(y.shape)"
   ]
  }
 ],
 "metadata": {
  "kernelspec": {
   "display_name": "cs178",
   "language": "python",
   "name": "python3"
  },
  "language_info": {
   "codemirror_mode": {
    "name": "ipython",
    "version": 3
   },
   "file_extension": ".py",
   "mimetype": "text/x-python",
   "name": "python",
   "nbconvert_exporter": "python",
   "pygments_lexer": "ipython3",
   "version": "3.11.5"
  }
 },
 "nbformat": 4,
 "nbformat_minor": 2
}
