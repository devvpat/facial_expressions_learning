{
 "cells": [
  {
   "cell_type": "markdown",
   "metadata": {},
   "source": [
    "link up imgs in images/ with according id in data/legend.csv"
   ]
  },
  {
   "cell_type": "code",
   "execution_count": 1,
   "metadata": {},
   "outputs": [],
   "source": [
    "import numpy as np\n",
    "import data_processor\n",
    "from sklearn.neural_network import MLPClassifier\n",
    "import matplotlib.pyplot as plt\n",
    "from sklearn.preprocessing import StandardScaler     # scaling transform\n",
    "from sklearn.model_selection import train_test_split # validation tools\n",
    "from collections import defaultdict\n",
    "\n",
    "%matplotlib inline\n",
    "\n",
    "seed = 1234"
   ]
  },
  {
   "cell_type": "markdown",
   "metadata": {},
   "source": [
    "# STEP 0 - GETTING THE DATA"
   ]
  },
  {
   "cell_type": "code",
   "execution_count": 2,
   "metadata": {},
   "outputs": [
    {
     "name": "stdout",
     "output_type": "stream",
     "text": [
      "--- Done reading legend.csv ---\n",
      "--- Done turning images into vectors ---\n"
     ]
    }
   ],
   "source": [
    "get_data_from_file = False  # faster when this is False\n",
    "DATA_IMG_SIZE = (100, 100)\n",
    "\n",
    "# get data from file\n",
    "if (get_data_from_file):\n",
    "    DATA_FILE = \"data_images_100_100.txt\"\n",
    "    data = np.genfromtxt(DATA_FILE)\n",
    "    X = data[:, :-1]\n",
    "    y = data[:, -1]\n",
    "\n",
    "# generate data here\n",
    "if not get_data_from_file:\n",
    "    X, y = data_processor.convert_images(DATA_IMG_SIZE, True)\n",
    "    X = np.array(X)\n",
    "    y = np.char.lower(np.array(y))\n"
   ]
  },
  {
   "cell_type": "code",
   "execution_count": 3,
   "metadata": {},
   "outputs": [
    {
     "name": "stdout",
     "output_type": "stream",
     "text": [
      "(13690, 10000)\n",
      "(13690,)\n"
     ]
    }
   ],
   "source": [
    "print(X.shape)\n",
    "print(y.shape)"
   ]
  },
  {
   "cell_type": "code",
   "execution_count": 3,
   "metadata": {},
   "outputs": [],
   "source": [
    "X_tr_unscaled, X_te_unscaled, y_tr, y_te = train_test_split(X, y, test_size=0.1, random_state=seed, shuffle=True)\n",
    "\n",
    "scaler = StandardScaler()\n",
    "scaler.fit(X_tr_unscaled)\n",
    "X_tr = scaler.transform(X_tr_unscaled)     # We can forget about the original values & work\n",
    "X_te = scaler.transform(X_te_unscaled)     #  just with the transformed values from here"
   ]
  },
  {
   "cell_type": "code",
   "execution_count": 4,
   "metadata": {},
   "outputs": [],
   "source": [
    "X_tr_subset = X_tr[:10000]\n",
    "y_tr_subset = y_tr[:10000]"
   ]
  },
  {
   "cell_type": "code",
   "execution_count": 5,
   "metadata": {},
   "outputs": [
    {
     "data": {
      "text/html": [
       "<style>#sk-container-id-1 {color: black;}#sk-container-id-1 pre{padding: 0;}#sk-container-id-1 div.sk-toggleable {background-color: white;}#sk-container-id-1 label.sk-toggleable__label {cursor: pointer;display: block;width: 100%;margin-bottom: 0;padding: 0.3em;box-sizing: border-box;text-align: center;}#sk-container-id-1 label.sk-toggleable__label-arrow:before {content: \"▸\";float: left;margin-right: 0.25em;color: #696969;}#sk-container-id-1 label.sk-toggleable__label-arrow:hover:before {color: black;}#sk-container-id-1 div.sk-estimator:hover label.sk-toggleable__label-arrow:before {color: black;}#sk-container-id-1 div.sk-toggleable__content {max-height: 0;max-width: 0;overflow: hidden;text-align: left;background-color: #f0f8ff;}#sk-container-id-1 div.sk-toggleable__content pre {margin: 0.2em;color: black;border-radius: 0.25em;background-color: #f0f8ff;}#sk-container-id-1 input.sk-toggleable__control:checked~div.sk-toggleable__content {max-height: 200px;max-width: 100%;overflow: auto;}#sk-container-id-1 input.sk-toggleable__control:checked~label.sk-toggleable__label-arrow:before {content: \"▾\";}#sk-container-id-1 div.sk-estimator input.sk-toggleable__control:checked~label.sk-toggleable__label {background-color: #d4ebff;}#sk-container-id-1 div.sk-label input.sk-toggleable__control:checked~label.sk-toggleable__label {background-color: #d4ebff;}#sk-container-id-1 input.sk-hidden--visually {border: 0;clip: rect(1px 1px 1px 1px);clip: rect(1px, 1px, 1px, 1px);height: 1px;margin: -1px;overflow: hidden;padding: 0;position: absolute;width: 1px;}#sk-container-id-1 div.sk-estimator {font-family: monospace;background-color: #f0f8ff;border: 1px dotted black;border-radius: 0.25em;box-sizing: border-box;margin-bottom: 0.5em;}#sk-container-id-1 div.sk-estimator:hover {background-color: #d4ebff;}#sk-container-id-1 div.sk-parallel-item::after {content: \"\";width: 100%;border-bottom: 1px solid gray;flex-grow: 1;}#sk-container-id-1 div.sk-label:hover label.sk-toggleable__label {background-color: #d4ebff;}#sk-container-id-1 div.sk-serial::before {content: \"\";position: absolute;border-left: 1px solid gray;box-sizing: border-box;top: 0;bottom: 0;left: 50%;z-index: 0;}#sk-container-id-1 div.sk-serial {display: flex;flex-direction: column;align-items: center;background-color: white;padding-right: 0.2em;padding-left: 0.2em;position: relative;}#sk-container-id-1 div.sk-item {position: relative;z-index: 1;}#sk-container-id-1 div.sk-parallel {display: flex;align-items: stretch;justify-content: center;background-color: white;position: relative;}#sk-container-id-1 div.sk-item::before, #sk-container-id-1 div.sk-parallel-item::before {content: \"\";position: absolute;border-left: 1px solid gray;box-sizing: border-box;top: 0;bottom: 0;left: 50%;z-index: -1;}#sk-container-id-1 div.sk-parallel-item {display: flex;flex-direction: column;z-index: 1;position: relative;background-color: white;}#sk-container-id-1 div.sk-parallel-item:first-child::after {align-self: flex-end;width: 50%;}#sk-container-id-1 div.sk-parallel-item:last-child::after {align-self: flex-start;width: 50%;}#sk-container-id-1 div.sk-parallel-item:only-child::after {width: 0;}#sk-container-id-1 div.sk-dashed-wrapped {border: 1px dashed gray;margin: 0 0.4em 0.5em 0.4em;box-sizing: border-box;padding-bottom: 0.4em;background-color: white;}#sk-container-id-1 div.sk-label label {font-family: monospace;font-weight: bold;display: inline-block;line-height: 1.2em;}#sk-container-id-1 div.sk-label-container {text-align: center;}#sk-container-id-1 div.sk-container {/* jupyter's `normalize.less` sets `[hidden] { display: none; }` but bootstrap.min.css set `[hidden] { display: none !important; }` so we also need the `!important` here to be able to override the default hidden behavior on the sphinx rendered scikit-learn.org. See: https://github.com/scikit-learn/scikit-learn/issues/21755 */display: inline-block !important;position: relative;}#sk-container-id-1 div.sk-text-repr-fallback {display: none;}</style><div id=\"sk-container-id-1\" class=\"sk-top-container\"><div class=\"sk-text-repr-fallback\"><pre>MLPClassifier(activation=&#x27;logistic&#x27;, batch_size=200, hidden_layer_sizes=[128],\n",
       "              learning_rate=&#x27;adaptive&#x27;, learning_rate_init=0.01, max_iter=500,\n",
       "              random_state=1234)</pre><b>In a Jupyter environment, please rerun this cell to show the HTML representation or trust the notebook. <br />On GitHub, the HTML representation is unable to render, please try loading this page with nbviewer.org.</b></div><div class=\"sk-container\" hidden><div class=\"sk-item\"><div class=\"sk-estimator sk-toggleable\"><input class=\"sk-toggleable__control sk-hidden--visually\" id=\"sk-estimator-id-1\" type=\"checkbox\" checked><label for=\"sk-estimator-id-1\" class=\"sk-toggleable__label sk-toggleable__label-arrow\">MLPClassifier</label><div class=\"sk-toggleable__content\"><pre>MLPClassifier(activation=&#x27;logistic&#x27;, batch_size=200, hidden_layer_sizes=[128],\n",
       "              learning_rate=&#x27;adaptive&#x27;, learning_rate_init=0.01, max_iter=500,\n",
       "              random_state=1234)</pre></div></div></div></div></div>"
      ],
      "text/plain": [
       "MLPClassifier(activation='logistic', batch_size=200, hidden_layer_sizes=[128],\n",
       "              learning_rate='adaptive', learning_rate_init=0.01, max_iter=500,\n",
       "              random_state=1234)"
      ]
     },
     "execution_count": 5,
     "metadata": {},
     "output_type": "execute_result"
    }
   ],
   "source": [
    "neural_network = MLPClassifier(hidden_layer_sizes=[128],\n",
    "                               activation='logistic',\n",
    "                               solver='adam',\n",
    "                               batch_size=200,\n",
    "                               max_iter=500,\n",
    "                               learning_rate='adaptive',\n",
    "                               learning_rate_init=0.01,\n",
    "                               random_state=seed)\n",
    "neural_network.fit(X_tr_subset, y_tr_subset)"
   ]
  },
  {
   "cell_type": "code",
   "execution_count": 6,
   "metadata": {},
   "outputs": [
    {
     "data": {
      "text/plain": [
       "[<matplotlib.lines.Line2D at 0x152e41b18d0>]"
      ]
     },
     "execution_count": 6,
     "metadata": {},
     "output_type": "execute_result"
    },
    {
     "data": {
      "image/png": "[encoded data removed]",
      "text/plain": [
       "<Figure size 640x480 with 1 Axes>"
      ]
     },
     "metadata": {},
     "output_type": "display_data"
    }
   ],
   "source": [
    "curve = neural_network.loss_curve_\n",
    "plt.plot(range(len(curve)), curve)"
   ]
  },
  {
   "cell_type": "code",
   "execution_count": 7,
   "metadata": {},
   "outputs": [
    {
     "name": "stdout",
     "output_type": "stream",
     "text": [
      "defaultdict(<class 'int'>, {'happiness': 3501, 'neutral': 6410, 'surprise': 55, 'disgust': 21, 'anger': 12, 'sadness': 1})\n",
      "training error rate: 0.2546\n",
      "evaluation error rate: 0.29510591672753833\n"
     ]
    }
   ],
   "source": [
    "yp = neural_network.predict(X_tr_subset)\n",
    "countsp = defaultdict(int)\n",
    "for i in yp:\n",
    "    countsp[i] += 1\n",
    "print(countsp)\n",
    "print('training error rate: ' + str(sum([0 if y == yp else 1 for y, yp in zip(y_tr_subset, neural_network.predict(X_tr_subset))])/len(y_tr_subset)))\n",
    "print('evaluation error rate: '+ str(sum([0 if y == yp else 1 for y, yp in zip(y_te, neural_network.predict(X_te))])/len(y_te)))\n",
    "\n",
    "# the network has trouble predicting emotions like sadness, contempt, anger, disgust because there are few of them in the dataset compared to happiness and neutral.\n"
   ]
  },
  {
   "cell_type": "markdown",
   "metadata": {},
   "source": [
    "# Oversampling for Dataset Balance"
   ]
  },
  {
   "cell_type": "code",
   "execution_count": 13,
   "metadata": {},
   "outputs": [
    {
     "name": "stdout",
     "output_type": "stream",
     "text": [
      "before oversampling:\n",
      "defaultdict(<class 'int'>, {'anger': 252, 'surprise': 368, 'disgust': 208, 'fear': 21, 'neutral': 6868, 'happiness': 5696, 'sadness': 268, 'contempt': 9})\n",
      "\n",
      "after:\n",
      "defaultdict(<class 'int'>, {'anger': 6804, 'surprise': 6624, 'disgust': 6864, 'fear': 6867, 'neutral': 6868, 'happiness': 5696, 'sadness': 6700, 'contempt': 6867})\n"
     ]
    }
   ],
   "source": [
    "counts = defaultdict(int)\n",
    "for i in y:\n",
    "    counts[i] += 1\n",
    "print('before oversampling:')\n",
    "print(counts)\n",
    "\n",
    "# compute indices of classes\n",
    "contempt_i = np.where(y == 'contempt')[0]\n",
    "fear_i = np.where(y == 'fear')[0]\n",
    "disgust_i = np.where(y == 'disgust')[0]\n",
    "anger_i = np.where(y == 'anger')[0]\n",
    "sadness_i = np.where(y == 'sadness')[0]\n",
    "surprise_i = np.where(y == 'surprise')[0]\n",
    "\n",
    "# calculate how many times to duplicate data\n",
    "contempt_times = int(counts['neutral'] / counts['contempt']) - 1\n",
    "fear_times = int(counts['neutral'] / counts['fear']) - 1\n",
    "disgust_times = int(counts['neutral'] / counts['disgust']) - 1\n",
    "anger_times = int(counts['neutral'] / counts['anger']) - 1\n",
    "sadness_times = int(counts['neutral'] / counts['sadness']) - 1\n",
    "surprise_times = int(counts['neutral'] / counts['surprise']) - 1\n",
    "\n",
    "contempt_X = np.repeat(X[contempt_i], contempt_times, axis=0)\n",
    "fear_X = np.repeat(X[fear_i], fear_times, axis=0)\n",
    "disgust_X = np.repeat(X[disgust_i], disgust_times, axis=0)\n",
    "anger_X = np.repeat(X[anger_i], anger_times, axis=0)\n",
    "sadness_X = np.repeat(X[sadness_i], sadness_times, axis=0)\n",
    "surprise_X = np.repeat(X[surprise_i], surprise_times, axis=0)\n",
    "\n",
    "X_balanced = np.concatenate((X, contempt_X, fear_X, disgust_X, anger_X, sadness_X, surprise_X), axis=0)\n",
    "y_balanced = np.concatenate((y,\n",
    "                                np.repeat(['contempt'], contempt_times * counts['contempt']),\n",
    "                                np.repeat(['fear'], fear_times * counts['fear']),\n",
    "                                np.repeat(['disgust'], disgust_times * counts['disgust']),\n",
    "                                np.repeat(['anger'], anger_times * counts['anger']),\n",
    "                                np.repeat(['sadness'], sadness_times * counts['sadness']),\n",
    "                                np.repeat(['surprise'], surprise_times * counts['surprise'])), axis=0)\n",
    "\n",
    "counts_after = defaultdict(int)\n",
    "for i in y_balanced:\n",
    "    counts_after[i] += 1\n",
    "print('\\nafter:')\n",
    "print(counts_after)\n",
    "\n",
    "\n",
    "\n",
    "\n",
    "\n"
   ]
  },
  {
   "cell_type": "code",
   "execution_count": 14,
   "metadata": {},
   "outputs": [],
   "source": [
    "# shuffle oversampled data\n",
    "np.random.seed(seed)\n",
    "shuffled_indices = np.arange(y_balanced.shape[0])\n",
    "np.random.shuffle(shuffled_indices)\n",
    "\n",
    "X_tr_balanced_shuffled = X_balanced[shuffled_indices]\n",
    "y_tr_balanced_shuffled = y_balanced[shuffled_indices]"
   ]
  },
  {
   "cell_type": "code",
   "execution_count": 29,
   "metadata": {},
   "outputs": [],
   "source": [
    "X_tr_unscaled, X_te_unscaled, y_tr, y_te = train_test_split(X_tr_balanced_shuffled, y_tr_balanced_shuffled, test_size=0.3, random_state=seed, shuffle=True)\n",
    "\n",
    "scaler = StandardScaler()\n",
    "scaler.fit(X_tr_unscaled)\n",
    "X_tr = scaler.transform(X_tr_unscaled)     # We can forget about the original values & work\n",
    "X_te = scaler.transform(X_te_unscaled)     #  just with the transformed values from here"
   ]
  },
  {
   "cell_type": "code",
   "execution_count": 30,
   "metadata": {},
   "outputs": [
    {
     "name": "stdout",
     "output_type": "stream",
     "text": [
      "(37303, 10000)\n"
     ]
    }
   ],
   "source": [
    "X_tr_subset = X_tr[:10000]\n",
    "y_tr_subset = y_tr[:10000]\n",
    "print(X_tr.shape)\n"
   ]
  },
  {
   "cell_type": "code",
   "execution_count": 40,
   "metadata": {},
   "outputs": [
    {
     "data": {
      "text/html": [
       "<style>#sk-container-id-6 {color: black;}#sk-container-id-6 pre{padding: 0;}#sk-container-id-6 div.sk-toggleable {background-color: white;}#sk-container-id-6 label.sk-toggleable__label {cursor: pointer;display: block;width: 100%;margin-bottom: 0;padding: 0.3em;box-sizing: border-box;text-align: center;}#sk-container-id-6 label.sk-toggleable__label-arrow:before {content: \"▸\";float: left;margin-right: 0.25em;color: #696969;}#sk-container-id-6 label.sk-toggleable__label-arrow:hover:before {color: black;}#sk-container-id-6 div.sk-estimator:hover label.sk-toggleable__label-arrow:before {color: black;}#sk-container-id-6 div.sk-toggleable__content {max-height: 0;max-width: 0;overflow: hidden;text-align: left;background-color: #f0f8ff;}#sk-container-id-6 div.sk-toggleable__content pre {margin: 0.2em;color: black;border-radius: 0.25em;background-color: #f0f8ff;}#sk-container-id-6 input.sk-toggleable__control:checked~div.sk-toggleable__content {max-height: 200px;max-width: 100%;overflow: auto;}#sk-container-id-6 input.sk-toggleable__control:checked~label.sk-toggleable__label-arrow:before {content: \"▾\";}#sk-container-id-6 div.sk-estimator input.sk-toggleable__control:checked~label.sk-toggleable__label {background-color: #d4ebff;}#sk-container-id-6 div.sk-label input.sk-toggleable__control:checked~label.sk-toggleable__label {background-color: #d4ebff;}#sk-container-id-6 input.sk-hidden--visually {border: 0;clip: rect(1px 1px 1px 1px);clip: rect(1px, 1px, 1px, 1px);height: 1px;margin: -1px;overflow: hidden;padding: 0;position: absolute;width: 1px;}#sk-container-id-6 div.sk-estimator {font-family: monospace;background-color: #f0f8ff;border: 1px dotted black;border-radius: 0.25em;box-sizing: border-box;margin-bottom: 0.5em;}#sk-container-id-6 div.sk-estimator:hover {background-color: #d4ebff;}#sk-container-id-6 div.sk-parallel-item::after {content: \"\";width: 100%;border-bottom: 1px solid gray;flex-grow: 1;}#sk-container-id-6 div.sk-label:hover label.sk-toggleable__label {background-color: #d4ebff;}#sk-container-id-6 div.sk-serial::before {content: \"\";position: absolute;border-left: 1px solid gray;box-sizing: border-box;top: 0;bottom: 0;left: 50%;z-index: 0;}#sk-container-id-6 div.sk-serial {display: flex;flex-direction: column;align-items: center;background-color: white;padding-right: 0.2em;padding-left: 0.2em;position: relative;}#sk-container-id-6 div.sk-item {position: relative;z-index: 1;}#sk-container-id-6 div.sk-parallel {display: flex;align-items: stretch;justify-content: center;background-color: white;position: relative;}#sk-container-id-6 div.sk-item::before, #sk-container-id-6 div.sk-parallel-item::before {content: \"\";position: absolute;border-left: 1px solid gray;box-sizing: border-box;top: 0;bottom: 0;left: 50%;z-index: -1;}#sk-container-id-6 div.sk-parallel-item {display: flex;flex-direction: column;z-index: 1;position: relative;background-color: white;}#sk-container-id-6 div.sk-parallel-item:first-child::after {align-self: flex-end;width: 50%;}#sk-container-id-6 div.sk-parallel-item:last-child::after {align-self: flex-start;width: 50%;}#sk-container-id-6 div.sk-parallel-item:only-child::after {width: 0;}#sk-container-id-6 div.sk-dashed-wrapped {border: 1px dashed gray;margin: 0 0.4em 0.5em 0.4em;box-sizing: border-box;padding-bottom: 0.4em;background-color: white;}#sk-container-id-6 div.sk-label label {font-family: monospace;font-weight: bold;display: inline-block;line-height: 1.2em;}#sk-container-id-6 div.sk-label-container {text-align: center;}#sk-container-id-6 div.sk-container {/* jupyter's `normalize.less` sets `[hidden] { display: none; }` but bootstrap.min.css set `[hidden] { display: none !important; }` so we also need the `!important` here to be able to override the default hidden behavior on the sphinx rendered scikit-learn.org. See: https://github.com/scikit-learn/scikit-learn/issues/21755 */display: inline-block !important;position: relative;}#sk-container-id-6 div.sk-text-repr-fallback {display: none;}</style><div id=\"sk-container-id-6\" class=\"sk-top-container\"><div class=\"sk-text-repr-fallback\"><pre>MLPClassifier(activation=&#x27;logistic&#x27;, batch_size=200,\n",
       "              hidden_layer_sizes=[64, 64], learning_rate=&#x27;adaptive&#x27;,\n",
       "              learning_rate_init=0.01, max_iter=500, random_state=1234)</pre><b>In a Jupyter environment, please rerun this cell to show the HTML representation or trust the notebook. <br />On GitHub, the HTML representation is unable to render, please try loading this page with nbviewer.org.</b></div><div class=\"sk-container\" hidden><div class=\"sk-item\"><div class=\"sk-estimator sk-toggleable\"><input class=\"sk-toggleable__control sk-hidden--visually\" id=\"sk-estimator-id-6\" type=\"checkbox\" checked><label for=\"sk-estimator-id-6\" class=\"sk-toggleable__label sk-toggleable__label-arrow\">MLPClassifier</label><div class=\"sk-toggleable__content\"><pre>MLPClassifier(activation=&#x27;logistic&#x27;, batch_size=200,\n",
       "              hidden_layer_sizes=[64, 64], learning_rate=&#x27;adaptive&#x27;,\n",
       "              learning_rate_init=0.01, max_iter=500, random_state=1234)</pre></div></div></div></div></div>"
      ],
      "text/plain": [
       "MLPClassifier(activation='logistic', batch_size=200,\n",
       "              hidden_layer_sizes=[64, 64], learning_rate='adaptive',\n",
       "              learning_rate_init=0.01, max_iter=500, random_state=1234)"
      ]
     },
     "execution_count": 40,
     "metadata": {},
     "output_type": "execute_result"
    }
   ],
   "source": [
    "neural_network = MLPClassifier(hidden_layer_sizes=[64, 64],\n",
    "                               activation='logistic',\n",
    "                               solver='adam',\n",
    "                               batch_size=200,\n",
    "                               max_iter=500,\n",
    "                               learning_rate='adaptive',\n",
    "                               learning_rate_init=0.01,\n",
    "                               random_state=seed)\n",
    "neural_network.fit(X_tr, y_tr)\n"
   ]
  },
  {
   "cell_type": "code",
   "execution_count": 45,
   "metadata": {},
   "outputs": [
    {
     "data": {
      "text/plain": [
       "['64x64.pkl']"
      ]
     },
     "execution_count": 45,
     "metadata": {},
     "output_type": "execute_result"
    }
   ],
   "source": [
    "import joblib\n",
    "\n",
    "joblib.dump(neural_network, '64x64.pkl')"
   ]
  },
  {
   "cell_type": "code",
   "execution_count": 46,
   "metadata": {},
   "outputs": [],
   "source": [
    "nn = joblib.load('saved_networks/64x64.pkl')\n"
   ]
  },
  {
   "cell_type": "code",
   "execution_count": 47,
   "metadata": {},
   "outputs": [
    {
     "data": {
      "text/plain": [
       "[<matplotlib.lines.Line2D at 0x152d56f6cd0>]"
      ]
     },
     "execution_count": 47,
     "metadata": {},
     "output_type": "execute_result"
    },
    {
     "data": {
      "image/png": "[encoded data removed]",
      "text/plain": [
       "<Figure size 640x480 with 1 Axes>"
      ]
     },
     "metadata": {},
     "output_type": "display_data"
    }
   ],
   "source": [
    "curve = neural_network.loss_curve_\n",
    "plt.plot(range(len(curve)), curve)"
   ]
  },
  {
   "cell_type": "code",
   "execution_count": 48,
   "metadata": {},
   "outputs": [
    {
     "name": "stdout",
     "output_type": "stream",
     "text": [
      "with layers = [64, 64]\n",
      "training error rate: 0.1943275339785004\n",
      "evaluation error rate: 0.2087946456495903\n",
      "0.1943275339785004\n"
     ]
    }
   ],
   "source": [
    "yp = neural_network.predict(X_tr)\n",
    "countsp = defaultdict(int)\n",
    "for i in yp:\n",
    "    countsp[i] += 1\n",
    "print('with layers = [64, 64]')\n",
    "print('training error rate: ' + str(sum([0 if y == yp else 1 for y, yp in zip(y_tr, neural_network.predict(X_tr))])/len(y_tr)))\n",
    "print('evaluation error rate: '+ str(sum([0 if y == yp else 1 for y, yp in zip(y_te, neural_network.predict(X_te))])/len(y_te)))\n",
    "\n",
    "\n",
    "# wrong_i = np.where((yp != y_tr))[0]\n",
    "# print(wrong_i.shape)\n",
    "# r = 10\n",
    "# c = 5\n",
    "\n",
    "# fig, ax = plt.subplots(r,c)\n",
    "# fig.set_figheight(30)\n",
    "# fig.set_figwidth(15)\n",
    "# for i in range(r):\n",
    "#     for j in range(c):\n",
    "#         ax[i, j].imshow(X_tr_unscaled[wrong_i[i*r + j]].reshape(100,100), cmap='gray')\n",
    "#         ax[i, j].set_title(y_tr_subset[wrong_i[i*r + j]] + '-' + yp[wrong_i[i*r + j]])"
   ]
  },
  {
   "cell_type": "code",
   "execution_count": 49,
   "metadata": {},
   "outputs": [
    {
     "data": {
      "text/html": [
       "<style>#sk-container-id-7 {color: black;}#sk-container-id-7 pre{padding: 0;}#sk-container-id-7 div.sk-toggleable {background-color: white;}#sk-container-id-7 label.sk-toggleable__label {cursor: pointer;display: block;width: 100%;margin-bottom: 0;padding: 0.3em;box-sizing: border-box;text-align: center;}#sk-container-id-7 label.sk-toggleable__label-arrow:before {content: \"▸\";float: left;margin-right: 0.25em;color: #696969;}#sk-container-id-7 label.sk-toggleable__label-arrow:hover:before {color: black;}#sk-container-id-7 div.sk-estimator:hover label.sk-toggleable__label-arrow:before {color: black;}#sk-container-id-7 div.sk-toggleable__content {max-height: 0;max-width: 0;overflow: hidden;text-align: left;background-color: #f0f8ff;}#sk-container-id-7 div.sk-toggleable__content pre {margin: 0.2em;color: black;border-radius: 0.25em;background-color: #f0f8ff;}#sk-container-id-7 input.sk-toggleable__control:checked~div.sk-toggleable__content {max-height: 200px;max-width: 100%;overflow: auto;}#sk-container-id-7 input.sk-toggleable__control:checked~label.sk-toggleable__label-arrow:before {content: \"▾\";}#sk-container-id-7 div.sk-estimator input.sk-toggleable__control:checked~label.sk-toggleable__label {background-color: #d4ebff;}#sk-container-id-7 div.sk-label input.sk-toggleable__control:checked~label.sk-toggleable__label {background-color: #d4ebff;}#sk-container-id-7 input.sk-hidden--visually {border: 0;clip: rect(1px 1px 1px 1px);clip: rect(1px, 1px, 1px, 1px);height: 1px;margin: -1px;overflow: hidden;padding: 0;position: absolute;width: 1px;}#sk-container-id-7 div.sk-estimator {font-family: monospace;background-color: #f0f8ff;border: 1px dotted black;border-radius: 0.25em;box-sizing: border-box;margin-bottom: 0.5em;}#sk-container-id-7 div.sk-estimator:hover {background-color: #d4ebff;}#sk-container-id-7 div.sk-parallel-item::after {content: \"\";width: 100%;border-bottom: 1px solid gray;flex-grow: 1;}#sk-container-id-7 div.sk-label:hover label.sk-toggleable__label {background-color: #d4ebff;}#sk-container-id-7 div.sk-serial::before {content: \"\";position: absolute;border-left: 1px solid gray;box-sizing: border-box;top: 0;bottom: 0;left: 50%;z-index: 0;}#sk-container-id-7 div.sk-serial {display: flex;flex-direction: column;align-items: center;background-color: white;padding-right: 0.2em;padding-left: 0.2em;position: relative;}#sk-container-id-7 div.sk-item {position: relative;z-index: 1;}#sk-container-id-7 div.sk-parallel {display: flex;align-items: stretch;justify-content: center;background-color: white;position: relative;}#sk-container-id-7 div.sk-item::before, #sk-container-id-7 div.sk-parallel-item::before {content: \"\";position: absolute;border-left: 1px solid gray;box-sizing: border-box;top: 0;bottom: 0;left: 50%;z-index: -1;}#sk-container-id-7 div.sk-parallel-item {display: flex;flex-direction: column;z-index: 1;position: relative;background-color: white;}#sk-container-id-7 div.sk-parallel-item:first-child::after {align-self: flex-end;width: 50%;}#sk-container-id-7 div.sk-parallel-item:last-child::after {align-self: flex-start;width: 50%;}#sk-container-id-7 div.sk-parallel-item:only-child::after {width: 0;}#sk-container-id-7 div.sk-dashed-wrapped {border: 1px dashed gray;margin: 0 0.4em 0.5em 0.4em;box-sizing: border-box;padding-bottom: 0.4em;background-color: white;}#sk-container-id-7 div.sk-label label {font-family: monospace;font-weight: bold;display: inline-block;line-height: 1.2em;}#sk-container-id-7 div.sk-label-container {text-align: center;}#sk-container-id-7 div.sk-container {/* jupyter's `normalize.less` sets `[hidden] { display: none; }` but bootstrap.min.css set `[hidden] { display: none !important; }` so we also need the `!important` here to be able to override the default hidden behavior on the sphinx rendered scikit-learn.org. See: https://github.com/scikit-learn/scikit-learn/issues/21755 */display: inline-block !important;position: relative;}#sk-container-id-7 div.sk-text-repr-fallback {display: none;}</style><div id=\"sk-container-id-7\" class=\"sk-top-container\"><div class=\"sk-text-repr-fallback\"><pre>MLPClassifier(activation=&#x27;logistic&#x27;, batch_size=200, hidden_layer_sizes=[128],\n",
       "              learning_rate=&#x27;adaptive&#x27;, learning_rate_init=0.01, max_iter=500,\n",
       "              random_state=1234)</pre><b>In a Jupyter environment, please rerun this cell to show the HTML representation or trust the notebook. <br />On GitHub, the HTML representation is unable to render, please try loading this page with nbviewer.org.</b></div><div class=\"sk-container\" hidden><div class=\"sk-item\"><div class=\"sk-estimator sk-toggleable\"><input class=\"sk-toggleable__control sk-hidden--visually\" id=\"sk-estimator-id-7\" type=\"checkbox\" checked><label for=\"sk-estimator-id-7\" class=\"sk-toggleable__label sk-toggleable__label-arrow\">MLPClassifier</label><div class=\"sk-toggleable__content\"><pre>MLPClassifier(activation=&#x27;logistic&#x27;, batch_size=200, hidden_layer_sizes=[128],\n",
       "              learning_rate=&#x27;adaptive&#x27;, learning_rate_init=0.01, max_iter=500,\n",
       "              random_state=1234)</pre></div></div></div></div></div>"
      ],
      "text/plain": [
       "MLPClassifier(activation='logistic', batch_size=200, hidden_layer_sizes=[128],\n",
       "              learning_rate='adaptive', learning_rate_init=0.01, max_iter=500,\n",
       "              random_state=1234)"
      ]
     },
     "execution_count": 49,
     "metadata": {},
     "output_type": "execute_result"
    }
   ],
   "source": [
    "# trying with 1 hidden layer of 128 nodes\n",
    "\n",
    "neural_network_2 = MLPClassifier(hidden_layer_sizes=[128],\n",
    "                               activation='logistic',\n",
    "                               solver='adam',\n",
    "                               batch_size=200,\n",
    "                               max_iter=500,\n",
    "                               learning_rate='adaptive',\n",
    "                               learning_rate_init=0.01,\n",
    "                               random_state=seed)\n",
    "neural_network_2.fit(X_tr, y_tr)"
   ]
  },
  {
   "cell_type": "code",
   "execution_count": 56,
   "metadata": {},
   "outputs": [
    {
     "data": {
      "text/plain": [
       "[<matplotlib.lines.Line2D at 0x152e4143290>]"
      ]
     },
     "execution_count": 56,
     "metadata": {},
     "output_type": "execute_result"
    },
    {
     "data": {
      "image/png": "[encoded data removed]",
      "text/plain": [
       "<Figure size 640x480 with 1 Axes>"
      ]
     },
     "metadata": {},
     "output_type": "display_data"
    }
   ],
   "source": [
    "curve = neural_network_2.loss_curve_\n",
    "plt.plot(range(len(curve)), curve)"
   ]
  },
  {
   "cell_type": "code",
   "execution_count": 53,
   "metadata": {},
   "outputs": [
    {
     "name": "stdout",
     "output_type": "stream",
     "text": [
      "with layers = [128]\n",
      "training error rate: 0.23464600702356378\n",
      "evaluation error rate: 0.2512666541565022\n"
     ]
    }
   ],
   "source": [
    "yp = neural_network_2.predict(X_tr_subset)\n",
    "countsp = defaultdict(int)\n",
    "for i in yp:\n",
    "    countsp[i] += 1\n",
    "print('with layers = [128]')\n",
    "print('training error rate: ' + str(sum([0 if y == yp else 1 for y, yp in zip(y_tr, neural_network_2.predict(X_tr))])/len(y_tr)))\n",
    "print('evaluation error rate: '+ str(sum([0 if y == yp else 1 for y, yp in zip(y_te, neural_network_2.predict(X_te))])/len(y_te)))\n",
    "# wrong_i = np.where((yp != y_tr_subset))[0]\n",
    "# print(wrong_i.shape)\n",
    "\n",
    "# r = 10\n",
    "# c = 5\n",
    "\n",
    "# fig, ax = plt.subplots(r,c)\n",
    "# fig.set_figheight(30)\n",
    "# fig.set_figwidth(15)\n",
    "# for i in range(r):\n",
    "#     for j in range(c):\n",
    "#         ax[i, j].imshow(X_tr_unscaled[wrong_i[i*r + j]].reshape(100,100), cmap='gray')\n",
    "#         ax[i, j].set_title(y_tr_subset[wrong_i[i*r + j]] + '-' + yp[wrong_i[i*r + j]])"
   ]
  },
  {
   "cell_type": "code",
   "execution_count": 55,
   "metadata": {},
   "outputs": [
    {
     "data": {
      "text/plain": [
       "['saved_networks/128.pkl']"
      ]
     },
     "execution_count": 55,
     "metadata": {},
     "output_type": "execute_result"
    }
   ],
   "source": [
    "# save network\n",
    "joblib.dump(neural_network_2, 'saved_networks/128.pkl')"
   ]
  }
 ],
 "metadata": {
  "kernelspec": {
   "display_name": "cs178",
   "language": "python",
   "name": "python3"
  },
  "language_info": {
   "codemirror_mode": {
    "name": "ipython",
    "version": 3
   },
   "file_extension": ".py",
   "mimetype": "text/x-python",
   "name": "python",
   "nbconvert_exporter": "python",
   "pygments_lexer": "ipython3",
   "version": "3.11.5"
  }
 },
 "nbformat": 4,
 "nbformat_minor": 2
}
