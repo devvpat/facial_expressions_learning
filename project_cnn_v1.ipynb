{
 "cells": [
  {
   "cell_type": "markdown",
   "metadata": {},
   "source": [
    "# Step 1 - Data Gathering"
   ]
  },
  {
   "cell_type": "code",
   "execution_count": 1,
   "metadata": {},
   "outputs": [],
   "source": [
    "import numpy as np\n",
    "import data_processor\n",
    "from sklearn.neural_network import MLPClassifier\n",
    "import matplotlib.pyplot as plt\n",
    "from sklearn.preprocessing import StandardScaler     # scaling transform\n",
    "from sklearn.model_selection import train_test_split # validation tools\n",
    "from collections import defaultdict\n",
    "\n",
    "%matplotlib inline\n",
    "\n",
    "seed = 1234"
   ]
  },
  {
   "cell_type": "markdown",
   "metadata": {},
   "source": [
    "### Getting the Data"
   ]
  },
  {
   "cell_type": "code",
   "execution_count": 2,
   "metadata": {},
   "outputs": [
    {
     "name": "stdout",
     "output_type": "stream",
     "text": [
      "--- Done reading legend.csv ---\n",
      "--- Done turning images into vectors ---\n"
     ]
    }
   ],
   "source": [
    "get_data_from_file = False  # faster when this is False\n",
    "DATA_IMG_SIZE = (175, 175)\n",
    "\n",
    "# get data from file\n",
    "if (get_data_from_file):\n",
    "    DATA_FILE = \"data_images_100_100.txt\"\n",
    "    data = np.genfromtxt(DATA_FILE)\n",
    "    X = data[:, :-1]\n",
    "    y = data[:, -1]\n",
    "\n",
    "# generate data here\n",
    "if not get_data_from_file:\n",
    "    X, y = data_processor.convert_images(DATA_IMG_SIZE, True)\n",
    "    X = np.array(X)\n",
    "    y = np.char.lower(np.array(y))\n"
   ]
  },
  {
   "cell_type": "markdown",
   "metadata": {},
   "source": [
    "### Preprocessing the Data"
   ]
  },
  {
   "cell_type": "code",
   "execution_count": 3,
   "metadata": {},
   "outputs": [
    {
     "name": "stdout",
     "output_type": "stream",
     "text": [
      "before oversampling:\n",
      "defaultdict(<class 'int'>, {'neutral': 6717, 'happiness': 5309, 'surprise': 355, 'sadness': 124, 'anger': 227, 'contempt': 9, 'disgust': 12, 'fear': 12})\n",
      "\n",
      "after:\n",
      "defaultdict(<class 'int'>, {'neutral': 6717, 'happiness': 5309, 'surprise': 6390, 'sadness': 6696, 'anger': 6583, 'contempt': 6714, 'disgust': 6708, 'fear': 6708})\n"
     ]
    }
   ],
   "source": [
    "counts = defaultdict(int)\n",
    "for i in y:\n",
    "    counts[i] += 1\n",
    "print('before oversampling:')\n",
    "print(counts)\n",
    "\n",
    "# compute indices of classes\n",
    "contempt_i = np.where(y == 'contempt')[0]\n",
    "fear_i = np.where(y == 'fear')[0]\n",
    "disgust_i = np.where(y == 'disgust')[0]\n",
    "anger_i = np.where(y == 'anger')[0]\n",
    "sadness_i = np.where(y == 'sadness')[0]\n",
    "surprise_i = np.where(y == 'surprise')[0]\n",
    "\n",
    "# calculate how many times to duplicate data\n",
    "contempt_times = int(counts['neutral'] / counts['contempt']) - 1\n",
    "fear_times = int(counts['neutral'] / counts['fear']) - 1\n",
    "disgust_times = int(counts['neutral'] / counts['disgust']) - 1\n",
    "anger_times = int(counts['neutral'] / counts['anger']) - 1\n",
    "sadness_times = int(counts['neutral'] / counts['sadness']) - 1\n",
    "surprise_times = int(counts['neutral'] / counts['surprise']) - 1\n",
    "\n",
    "contempt_X = np.repeat(X[contempt_i], contempt_times, axis=0)\n",
    "fear_X = np.repeat(X[fear_i], fear_times, axis=0)\n",
    "disgust_X = np.repeat(X[disgust_i], disgust_times, axis=0)\n",
    "anger_X = np.repeat(X[anger_i], anger_times, axis=0)\n",
    "sadness_X = np.repeat(X[sadness_i], sadness_times, axis=0)\n",
    "surprise_X = np.repeat(X[surprise_i], surprise_times, axis=0)\n",
    "\n",
    "X_balanced = np.concatenate((X, contempt_X, fear_X, disgust_X, anger_X, sadness_X, surprise_X), axis=0)\n",
    "y_balanced = np.concatenate((y,\n",
    "                                np.repeat(['contempt'], contempt_times * counts['contempt']),\n",
    "                                np.repeat(['fear'], fear_times * counts['fear']),\n",
    "                                np.repeat(['disgust'], disgust_times * counts['disgust']),\n",
    "                                np.repeat(['anger'], anger_times * counts['anger']),\n",
    "                                np.repeat(['sadness'], sadness_times * counts['sadness']),\n",
    "                                np.repeat(['surprise'], surprise_times * counts['surprise'])), axis=0)\n",
    "\n",
    "counts_after = defaultdict(int)\n",
    "for i in y_balanced:\n",
    "    counts_after[i] += 1\n",
    "print('\\nafter:')\n",
    "print(counts_after)\n"
   ]
  },
  {
   "cell_type": "code",
   "execution_count": 4,
   "metadata": {},
   "outputs": [],
   "source": [
    "# shuffle oversampled data\n",
    "np.random.seed(seed)\n",
    "shuffled_indices = np.arange(y_balanced.shape[0])\n",
    "np.random.shuffle(shuffled_indices)\n",
    "\n",
    "X_balanced = X_balanced[shuffled_indices]\n",
    "y_balanced = y_balanced[shuffled_indices]"
   ]
  },
  {
   "cell_type": "code",
   "execution_count": 5,
   "metadata": {},
   "outputs": [],
   "source": [
    "from sklearn.preprocessing import LabelEncoder\n",
    "import pandas as pd\n",
    "\n",
    "# encode y (str -> int)\n",
    "label_encoder = LabelEncoder()\n",
    "y_encoded = label_encoder.fit_transform(y_balanced)\n",
    "label_mapping = pd.DataFrame({'class_label': label_encoder.classes_, 'numeric_label': np.arange(len(label_encoder.classes_))})\n",
    "label_mapping.to_csv('label_mapping.csv', index=False)\n",
    "num_classes = len(label_encoder.classes_)\n",
    "\n",
    "# channels = 1 --> grayscale\n",
    "original_height, original_width, channels = *DATA_IMG_SIZE, 1\n",
    "\n",
    "# scale X\n",
    "scaler = StandardScaler()\n",
    "X_scaled = scaler.fit_transform(X_balanced)\n",
    "# reshape X\n",
    "X_reshaped = X_scaled.reshape(-1, original_height, original_width, channels)\n",
    "\n",
    "# split the training and testing data\n",
    "X_tr, X_te, y_tr, y_te = train_test_split(X_reshaped, y_encoded, test_size=0.1, random_state=seed, shuffle=True)\n"
   ]
  },
  {
   "cell_type": "markdown",
   "metadata": {},
   "source": [
    "# Step 2 - Building the Convolutional Neural Network"
   ]
  },
  {
   "cell_type": "markdown",
   "metadata": {},
   "source": [
    "### Create and Test an Initial CNN"
   ]
  },
  {
   "cell_type": "code",
   "execution_count": 6,
   "metadata": {},
   "outputs": [
    {
     "name": "stdout",
     "output_type": "stream",
     "text": [
      "WARNING:tensorflow:From c:\\Users\\devkp\\miniconda3\\envs\\cs178\\Lib\\site-packages\\keras\\src\\losses.py:2976: The name tf.losses.sparse_softmax_cross_entropy is deprecated. Please use tf.compat.v1.losses.sparse_softmax_cross_entropy instead.\n",
      "\n",
      "WARNING:tensorflow:From c:\\Users\\devkp\\miniconda3\\envs\\cs178\\Lib\\site-packages\\keras\\src\\backend.py:873: The name tf.get_default_graph is deprecated. Please use tf.compat.v1.get_default_graph instead.\n",
      "\n",
      "WARNING:tensorflow:From c:\\Users\\devkp\\miniconda3\\envs\\cs178\\Lib\\site-packages\\keras\\src\\layers\\pooling\\max_pooling2d.py:161: The name tf.nn.max_pool is deprecated. Please use tf.nn.max_pool2d instead.\n",
      "\n",
      "WARNING:tensorflow:From c:\\Users\\devkp\\miniconda3\\envs\\cs178\\Lib\\site-packages\\keras\\src\\optimizers\\__init__.py:309: The name tf.train.Optimizer is deprecated. Please use tf.compat.v1.train.Optimizer instead.\n",
      "\n",
      "Epoch 1/3\n",
      "WARNING:tensorflow:From c:\\Users\\devkp\\miniconda3\\envs\\cs178\\Lib\\site-packages\\keras\\src\\utils\\tf_utils.py:492: The name tf.ragged.RaggedTensorValue is deprecated. Please use tf.compat.v1.ragged.RaggedTensorValue instead.\n",
      "\n",
      "WARNING:tensorflow:From c:\\Users\\devkp\\miniconda3\\envs\\cs178\\Lib\\site-packages\\keras\\src\\engine\\base_layer_utils.py:384: The name tf.executing_eagerly_outside_functions is deprecated. Please use tf.compat.v1.executing_eagerly_outside_functions instead.\n",
      "\n",
      "1250/1250 [==============================] - 345s 274ms/step - loss: 0.2925 - accuracy: 0.9004 - val_loss: 0.0990 - val_accuracy: 0.9612\n",
      "Epoch 2/3\n",
      "1250/1250 [==============================] - 326s 261ms/step - loss: 0.0611 - accuracy: 0.9758 - val_loss: 0.0804 - val_accuracy: 0.9649\n",
      "Epoch 3/3\n",
      "1250/1250 [==============================] - 331s 265ms/step - loss: 0.0394 - accuracy: 0.9852 - val_loss: 0.1100 - val_accuracy: 0.9655\n",
      "162/162 [==============================] - 10s 61ms/step - loss: 0.1184 - accuracy: 0.9664\n",
      "Model Result\n",
      "-----\n",
      "{'loss': 0.11839067190885544, 'accuracy': 0.9664286971092224}\n"
     ]
    }
   ],
   "source": [
    "import tensorflow as tf\n",
    "from tensorflow.keras import layers, models\n",
    "import pandas as pd\n",
    "\n",
    "# first 10000 of train for training, rest of train for validation\n",
    "X_tr_train = X_tr[:40000, :]    # shape = (10000, 10000)\n",
    "y_tr_train = y_tr[:40000]       # shape = (2321, 10000)\n",
    "X_tr_val = X_tr[40000:, :]      # shape = (10000, )\n",
    "y_tr_val = y_tr[40000:]         # sahpe = (2321, )\n",
    "\n",
    "# create the CNN model\n",
    "model = models.Sequential()\n",
    "model.add(layers.Conv2D(32, (3, 3), activation='relu', input_shape=(original_height, original_width, channels)))\n",
    "model.add(layers.MaxPooling2D((2, 2)))\n",
    "model.add(layers.Conv2D(64, (3, 3), activation='relu'))\n",
    "model.add(layers.MaxPooling2D((2, 2)))\n",
    "model.add(layers.Conv2D(64, (3, 3), activation='relu'))\n",
    "model.add(layers.Flatten())\n",
    "model.add(layers.Dense(64, activation='relu'))\n",
    "model.add(layers.Dense(num_classes, activation='softmax'))\n",
    "\n",
    "# build the CNN model\n",
    "model.compile(optimizer='adam',\n",
    "              loss='sparse_categorical_crossentropy',\n",
    "              metrics=['accuracy'])\n",
    "\n",
    "# train the CNN model\n",
    "history = model.fit(X_tr_train, y_tr_train, epochs=3, validation_data=(X_tr_val, y_tr_val))\n",
    "\n",
    "# evalulate the CNN model\n",
    "result = model.evaluate(X_te, y_te)\n",
    "result_dict = dict(zip(model.metrics_names, result))\n",
    "print(f\"Model Result\\n-----\\n{result_dict}\")"
   ]
  },
  {
   "cell_type": "code",
   "execution_count": 11,
   "metadata": {},
   "outputs": [
    {
     "data": {
      "image/png": "[encoded data removed]",
      "text/plain": [
       "<Figure size 640x480 with 1 Axes>"
      ]
     },
     "metadata": {},
     "output_type": "display_data"
    },
    {
     "name": "stdout",
     "output_type": "stream",
     "text": [
      "{'loss': [0.29246631264686584, 0.06105291098356247, 0.03937366604804993], 'accuracy': [0.9004250168800354, 0.9757500290870667, 0.9852250218391418], 'val_loss': [0.09897999465465546, 0.08044109493494034, 0.11003586649894714], 'val_accuracy': [0.9611562490463257, 0.9649202227592468, 0.9655224084854126]}\n"
     ]
    }
   ],
   "source": [
    "import matplotlib.pyplot as plt\n",
    "\n",
    "\n",
    "plt.plot(range(1, 4), history.history[\"loss\"])\n",
    "plt.title(\"CNN Loss\")\n",
    "plt.xlabel(\"Epoch\")\n",
    "plt.ylabel(\"Loss\")\n",
    "plt.show()\n",
    "\n",
    "print(history.history)"
   ]
  },
  {
   "cell_type": "code",
   "execution_count": 16,
   "metadata": {},
   "outputs": [
    {
     "name": "stdout",
     "output_type": "stream",
     "text": [
      "208/208 [==============================] - 15s 71ms/step - loss: 0.1100 - accuracy: 0.9655\n",
      "Model Result\n",
      "-----\n",
      "{'loss': 0.11003586649894714, 'accuracy': 0.9655224084854126}\n"
     ]
    }
   ],
   "source": [
    "result = model.evaluate(X_tr_val, y_tr_val)\n",
    "result_dict = dict(zip(model.metrics_names, result))\n",
    "print(f\"Model Result\\n-----\\n{result_dict}\")"
   ]
  },
  {
   "cell_type": "code",
   "execution_count": 17,
   "metadata": {},
   "outputs": [
    {
     "ename": "MemoryError",
     "evalue": "Unable to allocate 4.56 GiB for an array with shape (40000, 175, 175, 1) and data type float32",
     "output_type": "error",
     "traceback": [
      "\u001b[1;31m---------------------------------------------------------------------------\u001b[0m",
      "\u001b[1;31mMemoryError\u001b[0m                               Traceback (most recent call last)",
      "Cell \u001b[1;32mIn[17], line 1\u001b[0m\n\u001b[1;32m----> 1\u001b[0m result \u001b[38;5;241m=\u001b[39m \u001b[43mmodel\u001b[49m\u001b[38;5;241;43m.\u001b[39;49m\u001b[43mevaluate\u001b[49m\u001b[43m(\u001b[49m\u001b[43mX_tr_train\u001b[49m\u001b[43m,\u001b[49m\u001b[43m \u001b[49m\u001b[43my_tr_train\u001b[49m\u001b[43m)\u001b[49m\n\u001b[0;32m      2\u001b[0m result_dict \u001b[38;5;241m=\u001b[39m \u001b[38;5;28mdict\u001b[39m(\u001b[38;5;28mzip\u001b[39m(model\u001b[38;5;241m.\u001b[39mmetrics_names, result))\n\u001b[0;32m      3\u001b[0m \u001b[38;5;28mprint\u001b[39m(\u001b[38;5;124mf\u001b[39m\u001b[38;5;124m\"\u001b[39m\u001b[38;5;124mModel Result\u001b[39m\u001b[38;5;130;01m\\n\u001b[39;00m\u001b[38;5;124m-----\u001b[39m\u001b[38;5;130;01m\\n\u001b[39;00m\u001b[38;5;132;01m{\u001b[39;00mresult_dict\u001b[38;5;132;01m}\u001b[39;00m\u001b[38;5;124m\"\u001b[39m)\n",
      "File \u001b[1;32mc:\\Users\\devkp\\miniconda3\\envs\\cs178\\Lib\\site-packages\\keras\\src\\utils\\traceback_utils.py:70\u001b[0m, in \u001b[0;36mfilter_traceback.<locals>.error_handler\u001b[1;34m(*args, **kwargs)\u001b[0m\n\u001b[0;32m     67\u001b[0m     filtered_tb \u001b[38;5;241m=\u001b[39m _process_traceback_frames(e\u001b[38;5;241m.\u001b[39m__traceback__)\n\u001b[0;32m     68\u001b[0m     \u001b[38;5;66;03m# To get the full stack trace, call:\u001b[39;00m\n\u001b[0;32m     69\u001b[0m     \u001b[38;5;66;03m# `tf.debugging.disable_traceback_filtering()`\u001b[39;00m\n\u001b[1;32m---> 70\u001b[0m     \u001b[38;5;28;01mraise\u001b[39;00m e\u001b[38;5;241m.\u001b[39mwith_traceback(filtered_tb) \u001b[38;5;28;01mfrom\u001b[39;00m \u001b[38;5;28;01mNone\u001b[39;00m\n\u001b[0;32m     71\u001b[0m \u001b[38;5;28;01mfinally\u001b[39;00m:\n\u001b[0;32m     72\u001b[0m     \u001b[38;5;28;01mdel\u001b[39;00m filtered_tb\n",
      "File \u001b[1;32mc:\\Users\\devkp\\miniconda3\\envs\\cs178\\Lib\\site-packages\\tensorflow\\python\\framework\\constant_op.py:103\u001b[0m, in \u001b[0;36mconvert_to_eager_tensor\u001b[1;34m(value, ctx, dtype)\u001b[0m\n\u001b[0;32m    101\u001b[0m     dtype \u001b[38;5;241m=\u001b[39m dtypes\u001b[38;5;241m.\u001b[39mas_dtype(dtype)\u001b[38;5;241m.\u001b[39mas_datatype_enum\n\u001b[0;32m    102\u001b[0m ctx\u001b[38;5;241m.\u001b[39mensure_initialized()\n\u001b[1;32m--> 103\u001b[0m \u001b[38;5;28;01mreturn\u001b[39;00m \u001b[43mops\u001b[49m\u001b[38;5;241;43m.\u001b[39;49m\u001b[43mEagerTensor\u001b[49m\u001b[43m(\u001b[49m\u001b[43mvalue\u001b[49m\u001b[43m,\u001b[49m\u001b[43m \u001b[49m\u001b[43mctx\u001b[49m\u001b[38;5;241;43m.\u001b[39;49m\u001b[43mdevice_name\u001b[49m\u001b[43m,\u001b[49m\u001b[43m \u001b[49m\u001b[43mdtype\u001b[49m\u001b[43m)\u001b[49m\n",
      "\u001b[1;31mMemoryError\u001b[0m: Unable to allocate 4.56 GiB for an array with shape (40000, 175, 175, 1) and data type float32"
     ]
    }
   ],
   "source": []
  }
 ],
 "metadata": {
  "kernelspec": {
   "display_name": "cs178",
   "language": "python",
   "name": "python3"
  },
  "language_info": {
   "codemirror_mode": {
    "name": "ipython",
    "version": 3
   },
   "file_extension": ".py",
   "mimetype": "text/x-python",
   "name": "python",
   "nbconvert_exporter": "python",
   "pygments_lexer": "ipython3",
   "version": "3.11.4"
  }
 },
 "nbformat": 4,
 "nbformat_minor": 2
}
